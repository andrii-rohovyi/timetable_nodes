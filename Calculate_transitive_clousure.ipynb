{
 "cells": [
  {
   "cell_type": "markdown",
   "id": "0a67d4e6-488e-4143-befd-b43371206e45",
   "metadata": {},
   "source": [
    "# The goal of this notebook is to calculate transitive closure for RAPTOR and CSA"
   ]
  },
  {
   "cell_type": "code",
   "execution_count": null,
   "id": "5d1279a5-e723-4c03-a8f0-c1600932710d",
   "metadata": {},
   "outputs": [],
   "source": [
    "import pandas as pd\n",
    "import math\n",
    "import logging\n",
    "import warnings\n",
    "from tqdm import tqdm\n",
    "\n",
    "logging.basicConfig(level=logging.ERROR)\n",
    "logger = logging.getLogger('root')\n",
    "logger.setLevel(logging.ERROR)\n",
    "\n",
    "warnings.filterwarnings(\"ignore\", category=UserWarning, module='root')\n",
    "warnings.filterwarnings(\"ignore\")\n",
    "\n",
    "\n",
    "from algorithms.dijkstra import Dijkstra"
   ]
  },
  {
   "cell_type": "markdown",
   "id": "f546c951-647d-418a-9d92-a84094883236",
   "metadata": {},
   "source": [
    "## List of the cities used in experiment "
   ]
  },
  {
   "cell_type": "code",
   "execution_count": 2,
   "id": "2abb539f-c370-4623-82f4-19acba87df0c",
   "metadata": {},
   "outputs": [],
   "source": [
    "airport_codes = {\n",
    "    'kuopio': 'KUO',\n",
    "    'luxembourg': 'LUX',\n",
    "    'rennes': 'RNS',\n",
    "    'turku': 'TKU',\n",
    "    'venice': 'VCE',\n",
    "    'belfast': 'BFS',\n",
    "    'palermo': 'PMO',\n",
    "    'grenoble': 'GNB',\n",
    "    'canberra': 'CBR',\n",
    "    'nantes': 'NTE',\n",
    "    'berlin': 'BER',\n",
    "    'dublin': 'DUB',\n",
    "    'toulouse': 'TLS',\n",
    "    'winnipeg': 'YWG',\n",
    "    'bordeaux': 'BOD',\n",
    "    'prague': 'PRG',\n",
    "    'detroit': 'DTW',\n",
    "    'lisbon': 'LIS',\n",
    "    'helsinki': 'HEL',\n",
    "    'adelaide': 'ADL',\n",
    "    'rome': 'FCO',\n",
    "    'brisbane': 'BNE',\n",
    "    \n",
    "    'paris': 'CDG',\n",
    "    'melbourne': 'MEL',\n",
    "   'sydney': 'SYD'\n",
    "}\n"
   ]
  },
  {
   "cell_type": "markdown",
   "id": "a287f4b7-100c-4db2-b487-fa53da366299",
   "metadata": {},
   "source": [
    "## Calculation of transitive closure"
   ]
  },
  {
   "cell_type": "code",
   "execution_count": 3,
   "id": "c8bf7312-12ba-4bc4-9f0f-c540c5c77e19",
   "metadata": {
    "scrolled": true
   },
   "outputs": [
    {
     "name": "stdout",
     "output_type": "stream",
     "text": [
      "kuopio\n"
     ]
    },
    {
     "name": "stderr",
     "output_type": "stream",
     "text": [
      "100%|███████████████████████████████████████████████████████████████████████████████████████████████████████████████████████████████████████████████████████████████████| 548/548 [00:02<00:00, 262.91it/s]\n"
     ]
    },
    {
     "name": "stdout",
     "output_type": "stream",
     "text": [
      "luxembourg\n"
     ]
    },
    {
     "name": "stderr",
     "output_type": "stream",
     "text": [
      "100%|█████████████████████████████████████████████████████████████████████████████████████████████████████████████████████████████████████████████████████████████████| 1314/1314 [00:02<00:00, 656.69it/s]\n"
     ]
    },
    {
     "name": "stdout",
     "output_type": "stream",
     "text": [
      "rennes\n"
     ]
    },
    {
     "name": "stderr",
     "output_type": "stream",
     "text": [
      "100%|█████████████████████████████████████████████████████████████████████████████████████████████████████████████████████████████████████████████████████████████████| 1401/1401 [00:09<00:00, 153.38it/s]\n"
     ]
    },
    {
     "name": "stdout",
     "output_type": "stream",
     "text": [
      "turku\n"
     ]
    },
    {
     "name": "stderr",
     "output_type": "stream",
     "text": [
      "100%|██████████████████████████████████████████████████████████████████████████████████████████████████████████████████████████████████████████████████████████████████| 1849/1849 [00:44<00:00, 41.83it/s]\n"
     ]
    },
    {
     "name": "stdout",
     "output_type": "stream",
     "text": [
      "venice\n"
     ]
    },
    {
     "name": "stderr",
     "output_type": "stream",
     "text": [
      "100%|█████████████████████████████████████████████████████████████████████████████████████████████████████████████████████████████████████████████████████████████████| 1864/1864 [00:09<00:00, 188.39it/s]\n"
     ]
    },
    {
     "name": "stdout",
     "output_type": "stream",
     "text": [
      "belfast\n"
     ]
    },
    {
     "name": "stderr",
     "output_type": "stream",
     "text": [
      "100%|██████████████████████████████████████████████████████████████████████████████████████████████████████████████████████████████████████████████████████████████████| 1915/1915 [00:53<00:00, 36.06it/s]\n"
     ]
    },
    {
     "name": "stdout",
     "output_type": "stream",
     "text": [
      "palermo\n"
     ]
    },
    {
     "name": "stderr",
     "output_type": "stream",
     "text": [
      "100%|██████████████████████████████████████████████████████████████████████████████████████████████████████████████████████████████████████████████████████████████████| 2176/2176 [01:21<00:00, 26.76it/s]\n"
     ]
    },
    {
     "name": "stdout",
     "output_type": "stream",
     "text": [
      "grenoble\n"
     ]
    },
    {
     "name": "stderr",
     "output_type": "stream",
     "text": [
      "100%|██████████████████████████████████████████████████████████████████████████████████████████████████████████████████████████████████████████████████████████████████| 2231/2231 [00:53<00:00, 41.67it/s]\n"
     ]
    },
    {
     "name": "stdout",
     "output_type": "stream",
     "text": [
      "canberra\n"
     ]
    },
    {
     "name": "stderr",
     "output_type": "stream",
     "text": [
      "100%|█████████████████████████████████████████████████████████████████████████████████████████████████████████████████████████████████████████████████████████████████| 2756/2756 [00:16<00:00, 163.37it/s]\n"
     ]
    },
    {
     "name": "stdout",
     "output_type": "stream",
     "text": [
      "nantes\n"
     ]
    },
    {
     "name": "stderr",
     "output_type": "stream",
     "text": [
      "100%|██████████████████████████████████████████████████████████████████████████████████████████████████████████████████████████████████████████████████████████████████| 3434/3434 [02:55<00:00, 19.53it/s]\n"
     ]
    },
    {
     "name": "stdout",
     "output_type": "stream",
     "text": [
      "berlin\n"
     ]
    },
    {
     "name": "stderr",
     "output_type": "stream",
     "text": [
      "100%|██████████████████████████████████████████████████████████████████████████████████████████████████████████████████████████████████████████████████████████████████| 4512/4512 [01:57<00:00, 38.25it/s]\n"
     ]
    },
    {
     "name": "stdout",
     "output_type": "stream",
     "text": [
      "dublin\n"
     ]
    },
    {
     "name": "stderr",
     "output_type": "stream",
     "text": [
      "100%|██████████████████████████████████████████████████████████████████████████████████████████████████████████████████████████████████████████████████████████████████| 4608/4608 [05:13<00:00, 14.71it/s]\n"
     ]
    },
    {
     "name": "stdout",
     "output_type": "stream",
     "text": [
      "toulouse\n"
     ]
    },
    {
     "name": "stderr",
     "output_type": "stream",
     "text": [
      "100%|██████████████████████████████████████████████████████████████████████████████████████████████████████████████████████████████████████████████████████████████████| 4969/4969 [06:18<00:00, 13.13it/s]\n"
     ]
    },
    {
     "name": "stdout",
     "output_type": "stream",
     "text": [
      "winnipeg\n"
     ]
    },
    {
     "name": "stderr",
     "output_type": "stream",
     "text": [
      "100%|██████████████████████████████████████████████████████████████████████████████████████████████████████████████████████████████████████████████████████████████████| 5077/5077 [08:53<00:00,  9.52it/s]\n"
     ]
    },
    {
     "name": "stdout",
     "output_type": "stream",
     "text": [
      "bordeaux\n"
     ]
    },
    {
     "name": "stderr",
     "output_type": "stream",
     "text": [
      "100%|██████████████████████████████████████████████████████████████████████████████████████████████████████████████████████████████████████████████████████████████████| 5289/5289 [09:29<00:00,  9.29it/s]\n"
     ]
    },
    {
     "name": "stdout",
     "output_type": "stream",
     "text": [
      "prague\n"
     ]
    },
    {
     "name": "stderr",
     "output_type": "stream",
     "text": [
      "100%|██████████████████████████████████████████████████████████████████████████████████████████████████████████████████████████████████████████████████████████████████| 5455/5455 [02:43<00:00, 33.28it/s]\n"
     ]
    },
    {
     "name": "stdout",
     "output_type": "stream",
     "text": [
      "detroit\n"
     ]
    },
    {
     "name": "stderr",
     "output_type": "stream",
     "text": [
      "100%|██████████████████████████████████████████████████████████████████████████████████████████████████████████████████████████████████████████████████████████████████| 5679/5679 [10:56<00:00,  8.65it/s]\n"
     ]
    },
    {
     "name": "stdout",
     "output_type": "stream",
     "text": [
      "lisbon\n"
     ]
    },
    {
     "name": "stderr",
     "output_type": "stream",
     "text": [
      "100%|██████████████████████████████████████████████████████████████████████████████████████████████████████████████████████████████████████████████████████████████████| 7048/7048 [06:22<00:00, 18.44it/s]\n"
     ]
    },
    {
     "name": "stdout",
     "output_type": "stream",
     "text": [
      "helsinki\n"
     ]
    },
    {
     "name": "stderr",
     "output_type": "stream",
     "text": [
      "100%|██████████████████████████████████████████████████████████████████████████████████████████████████████████████████████████████████████████████████████████████████| 7062/7062 [14:17<00:00,  8.24it/s]\n"
     ]
    },
    {
     "name": "stdout",
     "output_type": "stream",
     "text": [
      "adelaide\n"
     ]
    },
    {
     "name": "stderr",
     "output_type": "stream",
     "text": [
      "100%|██████████████████████████████████████████████████████████████████████████████████████████████████████████████████████████████████████████████████████████████████| 7650/7650 [15:17<00:00,  8.34it/s]\n"
     ]
    },
    {
     "name": "stdout",
     "output_type": "stream",
     "text": [
      "rome\n"
     ]
    },
    {
     "name": "stderr",
     "output_type": "stream",
     "text": [
      "100%|██████████████████████████████████████████████████████████████████████████████████████████████████████████████████████████████████████████████████████████████████| 7854/7854 [18:18<00:00,  7.15it/s]\n"
     ]
    },
    {
     "name": "stdout",
     "output_type": "stream",
     "text": [
      "brisbane\n"
     ]
    },
    {
     "name": "stderr",
     "output_type": "stream",
     "text": [
      "100%|██████████████████████████████████████████████████████████████████████████████████████████████████████████████████████████████████████████████████████████████████| 9788/9788 [17:32<00:00,  9.30it/s]\n"
     ]
    },
    {
     "name": "stdout",
     "output_type": "stream",
     "text": [
      "paris\n"
     ]
    },
    {
     "name": "stderr",
     "output_type": "stream",
     "text": [
      "100%|██████████████████████████████████████████████████████████████████████████████████████████████████████████████████████████████████████████████████████████████| 12284/12284 [1:25:47<00:00,  2.39it/s]\n"
     ]
    },
    {
     "name": "stdout",
     "output_type": "stream",
     "text": [
      "melbourne\n"
     ]
    },
    {
     "name": "stderr",
     "output_type": "stream",
     "text": [
      "100%|██████████████████████████████████████████████████████████████████████████████████████████████████████████████████████████████████████████████████████████████| 19472/19472 [5:06:27<00:00,  1.06it/s]\n"
     ]
    },
    {
     "name": "stdout",
     "output_type": "stream",
     "text": [
      "sydney\n"
     ]
    },
    {
     "name": "stderr",
     "output_type": "stream",
     "text": [
      "100%|██████████████████████████████████████████████████████████████████████████████████████████████████████████████████████████████████████████████████████████████| 24207/24207 [8:18:57<00:00,  1.24s/it]\n"
     ]
    }
   ],
   "source": [
    "for CITY in list(airport_codes.keys()):\n",
    "    print(CITY)\n",
    "    \n",
    "    walk_connections = pd.read_csv(F'data/{CITY}/network_walk.csv', sep=';')\n",
    "    df_walk_invert = walk_connections.copy()\n",
    "    df_walk_invert = df_walk_invert.rename(columns={'from_stop_I': 'to_stop_I', 'to_stop_I': 'from_stop_I'})\n",
    "    walk_connections = pd.concat((walk_connections, df_walk_invert))\n",
    "\n",
    "    walk_connections_dict = walk_connections.groupby('from_stop_I').apply(\n",
    "        lambda x: dict(zip(x['to_stop_I'], x['d_walk']))\n",
    "    ).to_dict()\n",
    "\n",
    "    walk_connections_full = walk_connections[['from_stop_I', 'to_stop_I', 'd_walk']].to_dict('list')\n",
    "\n",
    "    for node in tqdm(walk_connections_dict.keys()):\n",
    "        pathfinding = Dijkstra(graph=walk_connections_dict,\n",
    "                          start_node=node, \n",
    "                          end_node=math.inf)\n",
    "        path = pathfinding.shortest_path(60)\n",
    "        for node_to, duration in pathfinding.candidate_weights.items():\n",
    "            \n",
    "            walk_connections_full['from_stop_I'].append(node)\n",
    "            walk_connections_full['to_stop_I'].append(node_to)\n",
    "            walk_connections_full['d_walk'].append(duration)\n",
    "\n",
    "    walk_connections_transitive = pd.DataFrame(walk_connections_full).groupby(['from_stop_I', 'to_stop_I']).min().reset_index()\n",
    "    walk_connections_min = pd.merge(walk_connections_transitive[['from_stop_I', 'to_stop_I']],\n",
    "                                walk_connections[['from_stop_I', 'to_stop_I', 'd_walk']], on =['from_stop_I', 'to_stop_I'])\n",
    "    walk_connections_transitive.to_csv(F'data/{CITY}/walk_connections_transitive.csv', index=False)\n",
    "    walk_connections_min.to_csv(F'data/{CITY}/walk_connections_min.csv', index=False)"
   ]
  }
 ],
 "metadata": {
  "kernelspec": {
   "display_name": "Python 3 (ipykernel)",
   "language": "python",
   "name": "python3"
  },
  "language_info": {
   "codemirror_mode": {
    "name": "ipython",
    "version": 3
   },
   "file_extension": ".py",
   "mimetype": "text/x-python",
   "name": "python",
   "nbconvert_exporter": "python",
   "pygments_lexer": "ipython3",
   "version": "3.9.6"
  }
 },
 "nbformat": 4,
 "nbformat_minor": 5
}
