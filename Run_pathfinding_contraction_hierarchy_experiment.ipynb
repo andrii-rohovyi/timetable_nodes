{
 "cells": [
  {
   "cell_type": "code",
   "execution_count": 1,
   "id": "e970afe4",
   "metadata": {},
   "outputs": [],
   "source": [
    "import pandas as pd\n",
    "import datetime\n",
    "import numpy as np\n",
    "from copy import deepcopy\n",
    "import cProfile\n",
    "import sys\n",
    "from collections import defaultdict\n",
    "from tqdm import tqdm \n",
    "import pickle\n",
    "from bisect import bisect_left\n",
    "import random\n",
    "from tqdm import tqdm\n",
    "import random\n",
    "import os\n",
    "import logging\n",
    "\n",
    "\n",
    "from data_structures.graph import TransportGraph, ContactionTransportGraph\n",
    "from algorithms.forward_search import FCH\n",
    "from algorithms.dijkstra import Dijkstra\n",
    "from data_structures.timetable import Timetable\n",
    "from algorithms.connection_scan_algorithm import ConnectionScanAlgorithm"
   ]
  },
  {
   "cell_type": "markdown",
   "id": "2a9e5e1c",
   "metadata": {},
   "source": [
    "# Select city"
   ]
  },
  {
   "cell_type": "code",
   "execution_count": 2,
   "id": "4e3e04f4",
   "metadata": {},
   "outputs": [],
   "source": [
    "CITY = 'luxembourg'"
   ]
  },
  {
   "cell_type": "markdown",
   "id": "44cad3f3",
   "metadata": {},
   "source": [
    "# Build Transport Graphs"
   ]
  },
  {
   "cell_type": "code",
   "execution_count": 3,
   "id": "a0532922-a6de-4312-9ea3-006f2841221b",
   "metadata": {},
   "outputs": [],
   "source": [
    "# Download transport connection\n",
    "transport_connections = pd.read_csv(F'data/{CITY}/network_temporal_day.csv', sep=';')\n",
    "transport_connections = transport_connections[\n",
    "    transport_connections['from_stop_I']!=transport_connections['to_stop_I']]\n",
    "\n",
    "# Download walking connections\n",
    "walk_connections = pd.read_csv(F'data/{CITY}/network_walk.csv', sep=';')\n",
    "df_walk_invert = walk_connections.copy()\n",
    "df_walk_invert = df_walk_invert.rename(columns={'from_stop_I': 'to_stop_I', 'to_stop_I': 'from_stop_I'})\n",
    "walk_connections = pd.concat((walk_connections, df_walk_invert))\n",
    "\n",
    "#Additional limit \n",
    "walk_connections = walk_connections[walk_connections['d_walk'] < 600]\n",
    "\n",
    "#Build tg graph\n",
    "tg = TransportGraph(transport_connections=transport_connections, walk_connections=walk_connections)"
   ]
  },
  {
   "cell_type": "code",
   "execution_count": 4,
   "id": "3d190064-3962-4940-8410-74af807d2e89",
   "metadata": {},
   "outputs": [],
   "source": [
    "NODES = tg.nodes"
   ]
  },
  {
   "cell_type": "markdown",
   "id": "5911be32-c0a0-4164-9070-038c4ab4c327",
   "metadata": {},
   "source": [
    "# Build CH-graph"
   ]
  },
  {
   "cell_type": "code",
   "execution_count": 5,
   "id": "7b478d70-cdfc-4309-a251-6d29d92339d2",
   "metadata": {},
   "outputs": [
    {
     "name": "stderr",
     "output_type": "stream",
     "text": [
      "100%|██████████████████████████████████████████████████████████████████████████████████████████████████████████████████████████████████████████████████████████████████| 1367/1367 [00:26<00:00, 51.48it/s]\n"
     ]
    }
   ],
   "source": [
    "ch_tg = tg.contraction_hierarchy()"
   ]
  },
  {
   "cell_type": "markdown",
   "id": "91695856-be38-49a3-9355-6a07991e1754",
   "metadata": {},
   "source": [
    "# Precompute geometrical containers"
   ]
  },
  {
   "cell_type": "code",
   "execution_count": 6,
   "id": "cb220f9e-61cf-4873-bfb7-6c1ab3d3f439",
   "metadata": {},
   "outputs": [
    {
     "name": "stderr",
     "output_type": "stream",
     "text": [
      "100%|███████████████████████████████████████████████████████████████████████████████████████████████████████████████████████████████████████████████████████████████| 1367/1367 [00:00<00:00, 14436.57it/s]\n"
     ]
    }
   ],
   "source": [
    "ch_tg.geometrical_container()"
   ]
  },
  {
   "cell_type": "markdown",
   "id": "493c17c1-f46c-4744-aee5-7eec8625c679",
   "metadata": {},
   "source": [
    "# Precompute timetable nodes"
   ]
  },
  {
   "cell_type": "markdown",
   "id": "5edcb488-d4b7-412b-8bad-146e4eee4022",
   "metadata": {},
   "source": [
    "### For standard graph"
   ]
  },
  {
   "cell_type": "code",
   "execution_count": 7,
   "id": "b2700d34-16f1-45f7-89e6-e8284506eddc",
   "metadata": {},
   "outputs": [
    {
     "name": "stderr",
     "output_type": "stream",
     "text": [
      "100%|████████████████████████████████████████████████████████████████████████████████████████████████████████████████████████████████████████████████████████████████| 1367/1367 [00:00<00:00, 2446.51it/s]\n",
      "100%|████████████████████████████████████████████████████████████████████████████████████████████████████████████████████████████████████████████████████████████████| 1367/1367 [00:00<00:00, 3810.63it/s]\n",
      "100%|████████████████████████████████████████████████████████████████████████████████████████████████████████████████████████████████████████████████████████████████| 1367/1367 [00:00<00:00, 3563.96it/s]\n"
     ]
    }
   ],
   "source": [
    "tg_ttn = deepcopy(tg)\n",
    "tg_ttn_fc_ascending = deepcopy(tg)\n",
    "tg_ttn_fc_descending = deepcopy(tg)\n",
    "\n",
    "tg_ttn.optimize_binary_search()\n",
    "\n",
    "tg_ttn_fc_ascending.fractional_cascading_precomputation('ascending')\n",
    "tg_ttn_fc_descending.fractional_cascading_precomputation('descending')"
   ]
  },
  {
   "cell_type": "markdown",
   "id": "5008b40e-01b1-4b93-a6b9-963b2d3d8b74",
   "metadata": {},
   "source": [
    "### For CH-graph"
   ]
  },
  {
   "cell_type": "code",
   "execution_count": 8,
   "id": "4b9985b0-82e3-4d50-b1aa-0e0d6e3b5e1b",
   "metadata": {},
   "outputs": [
    {
     "name": "stderr",
     "output_type": "stream",
     "text": [
      "100%|█████████████████████████████████████████████████████████████████████████████████████████████████████████████████████████████████████████████████████████████████| 1367/1367 [00:07<00:00, 185.25it/s]\n",
      "100%|█████████████████████████████████████████████████████████████████████████████████████████████████████████████████████████████████████████████████████████████████| 1367/1367 [00:02<00:00, 532.57it/s]\n",
      "100%|█████████████████████████████████████████████████████████████████████████████████████████████████████████████████████████████████████████████████████████████████| 1367/1367 [00:02<00:00, 523.36it/s]\n",
      "100%|█████████████████████████████████████████████████████████████████████████████████████████████████████████████████████████████████████████████████████████████████| 1367/1367 [00:09<00:00, 145.33it/s]\n"
     ]
    }
   ],
   "source": [
    "ch_tg_ttn = deepcopy(ch_tg)\n",
    "ch_tg_ttn_fc_ascending = deepcopy(ch_tg)\n",
    "ch_tg_ttn_fc_descending = deepcopy(ch_tg)\n",
    "ch_tg_ttn_fc_hierarchy = deepcopy(ch_tg)\n",
    "\n",
    "ch_tg_ttn.optimize_binary_search()\n",
    "ch_tg_ttn_fc_ascending.fractional_cascading_precomputation('ascending')\n",
    "ch_tg_ttn_fc_descending.fractional_cascading_precomputation('descending')\n",
    "ch_tg_ttn_fc_hierarchy.fractional_cascading_precomputation('contraction_hierarchy')"
   ]
  },
  {
   "cell_type": "markdown",
   "id": "576848ff-574f-4258-bc3e-89ad05d965eb",
   "metadata": {},
   "source": [
    "# Prepare data for Connection Scan Algorithm"
   ]
  },
  {
   "cell_type": "code",
   "execution_count": 9,
   "id": "8c937789-1142-4b6d-88d7-b987c02ae32d",
   "metadata": {},
   "outputs": [],
   "source": [
    "timetable = Timetable(transport_connections=transport_connections, walk_connections=walk_connections)"
   ]
  },
  {
   "cell_type": "markdown",
   "id": "7106ad10-2a0f-4de1-837f-173edcc0e633",
   "metadata": {},
   "source": [
    "# Save Preprocessed Data Structures"
   ]
  },
  {
   "cell_type": "code",
   "execution_count": 10,
   "id": "2507e02f-ac68-43b7-98d2-d375bb4f7260",
   "metadata": {},
   "outputs": [],
   "source": [
    "# os.mkdir(f'graph/')\n",
    "\n",
    "\n",
    "# Classic Transport graph\n",
    "pickle.dump(tg, open(f'graph/{CITY}_tg.pkl', 'wb'), \n",
    "            pickle.HIGHEST_PROTOCOL)\n",
    "pickle.dump(tg_ttn, open(f'graph/{CITY}_tg_ttn.pkl', 'wb'), \n",
    "        pickle.HIGHEST_PROTOCOL)\n",
    "pickle.dump(tg_ttn_fc_ascending, open(f'graph/{CITY}_tg_ttn_fc_ascending.pkl', 'wb'), \n",
    "            pickle.HIGHEST_PROTOCOL)\n",
    "pickle.dump(tg_ttn_fc_descending, open(f'graph/{CITY}_tg_ttn_fc_descending.pkl', 'wb'), \n",
    "            pickle.HIGHEST_PROTOCOL)\n",
    "\n",
    "# CH-graph\n",
    "pickle.dump(ch_tg, open(f'graph/{CITY}_ch_tg.pkl', 'wb'), \n",
    "            pickle.HIGHEST_PROTOCOL)\n",
    "pickle.dump(ch_tg_ttn, open(f'graph/{CITY}_ch_tg_ttn.pkl', 'wb'), \n",
    "            pickle.HIGHEST_PROTOCOL)\n",
    "pickle.dump(ch_tg_ttn_fc_ascending, open(f'graph/{CITY}_ch_tg_ttn_fc_ascending.pkl', 'wb'), \n",
    "            pickle.HIGHEST_PROTOCOL)\n",
    "pickle.dump(ch_tg_ttn_fc_descending, open(f'graph/{CITY}_ch_tg_ttn_fc_descending.pkl', 'wb'), \n",
    "            pickle.HIGHEST_PROTOCOL)\n",
    "pickle.dump(ch_tg_ttn_fc_hierarchy, open(f'graph/{CITY}_ch_tg_ttn_fc_hierarchy.pkl', 'wb'), \n",
    "            pickle.HIGHEST_PROTOCOL)\n",
    "\n",
    "# CSA precomputation\n",
    "pickle.dump(timetable, open(f'graph/{CITY}_csa.pkl', 'wb'), \n",
    "            pickle.HIGHEST_PROTOCOL)"
   ]
  },
  {
   "cell_type": "markdown",
   "id": "b0b9b07d-b6e6-45a4-b863-ce7a5a4c0b13",
   "metadata": {},
   "source": [
    "### Delete datastructures to reduce memory udage for test"
   ]
  },
  {
   "cell_type": "code",
   "execution_count": 11,
   "id": "87e2575a-7072-4f9e-914b-898924025d26",
   "metadata": {},
   "outputs": [],
   "source": [
    "del tg, tg_ttn, tg_ttn_fc_ascending, tg_ttn_fc_descending, ch_tg, ch_tg_ttn, ch_tg_ttn_fc_ascending, ch_tg_ttn_fc_descending, ch_tg_ttn_fc_hierarchy,timetable "
   ]
  },
  {
   "cell_type": "markdown",
   "id": "3f4230f2-e174-4886-9d61-abb13a7fbdee",
   "metadata": {},
   "source": [
    "# Compare solutions"
   ]
  },
  {
   "cell_type": "code",
   "execution_count": 2,
   "id": "88d6f48a-da6b-4c8f-8ba2-74609ff5e89b",
   "metadata": {
    "scrolled": true
   },
   "outputs": [
    {
     "ename": "NameError",
     "evalue": "name 'pd' is not defined",
     "output_type": "error",
     "traceback": [
      "\u001B[0;31m---------------------------------------------------------------------------\u001B[0m",
      "\u001B[0;31mNameError\u001B[0m                                 Traceback (most recent call last)",
      "Cell \u001B[0;32mIn[2], line 8\u001B[0m\n\u001B[1;32m      2\u001B[0m algorithms \u001B[38;5;241m=\u001B[39m [ \u001B[38;5;124m'\u001B[39m\u001B[38;5;124mtg\u001B[39m\u001B[38;5;124m'\u001B[39m, \u001B[38;5;124m'\u001B[39m\u001B[38;5;124mtg_ttn\u001B[39m\u001B[38;5;124m'\u001B[39m, \u001B[38;5;124m'\u001B[39m\u001B[38;5;124mtg_ttn_fc_ascending\u001B[39m\u001B[38;5;124m'\u001B[39m, \u001B[38;5;124m'\u001B[39m\u001B[38;5;124mtg_ttn_fc_descending\u001B[39m\u001B[38;5;124m'\u001B[39m,\n\u001B[1;32m      3\u001B[0m          \u001B[38;5;124m'\u001B[39m\u001B[38;5;124mch_tg\u001B[39m\u001B[38;5;124m'\u001B[39m, \u001B[38;5;124m'\u001B[39m\u001B[38;5;124mch_tg_ttn\u001B[39m\u001B[38;5;124m'\u001B[39m, \u001B[38;5;124m'\u001B[39m\u001B[38;5;124mch_tg_ttn_fc_ascending\u001B[39m\u001B[38;5;124m'\u001B[39m, \u001B[38;5;124m'\u001B[39m\u001B[38;5;124mch_tg_ttn_fc_descending\u001B[39m\u001B[38;5;124m'\u001B[39m, \u001B[38;5;124m'\u001B[39m\u001B[38;5;124mch_tg_ttn_fc_hierarchy\u001B[39m\u001B[38;5;124m'\u001B[39m,\n\u001B[1;32m      4\u001B[0m          \u001B[38;5;124m'\u001B[39m\u001B[38;5;124mcsa\u001B[39m\u001B[38;5;124m'\u001B[39m]\n\u001B[1;32m      5\u001B[0m \u001B[38;5;66;03m#results = []\u001B[39;00m\n\u001B[0;32m----> 8\u001B[0m test_data \u001B[38;5;241m=\u001B[39m \u001B[43mpd\u001B[49m\u001B[38;5;241m.\u001B[39mDataFrame({\u001B[38;5;124m'\u001B[39m\u001B[38;5;124mstart_time\u001B[39m\u001B[38;5;124m'\u001B[39m: [random\u001B[38;5;241m.\u001B[39mrandint(transport_connections[\u001B[38;5;124m'\u001B[39m\u001B[38;5;124mdep_time_ut\u001B[39m\u001B[38;5;124m'\u001B[39m]\u001B[38;5;241m.\u001B[39mmin(), \n\u001B[1;32m      9\u001B[0m                                        transport_connections[\u001B[38;5;124m'\u001B[39m\u001B[38;5;124mdep_time_ut\u001B[39m\u001B[38;5;124m'\u001B[39m]\u001B[38;5;241m.\u001B[39mmax()) \u001B[38;5;28;01mfor\u001B[39;00m i \u001B[38;5;129;01min\u001B[39;00m \u001B[38;5;28mrange\u001B[39m(N)],\n\u001B[1;32m     10\u001B[0m          \u001B[38;5;124m'\u001B[39m\u001B[38;5;124mstart_node\u001B[39m\u001B[38;5;124m'\u001B[39m : [random\u001B[38;5;241m.\u001B[39msample(NODES, \u001B[38;5;241m1\u001B[39m)[\u001B[38;5;241m0\u001B[39m] \u001B[38;5;28;01mfor\u001B[39;00m i \u001B[38;5;129;01min\u001B[39;00m \u001B[38;5;28mrange\u001B[39m(N)], \n\u001B[1;32m     11\u001B[0m           \u001B[38;5;124m'\u001B[39m\u001B[38;5;124mend_node\u001B[39m\u001B[38;5;124m'\u001B[39m : [random\u001B[38;5;241m.\u001B[39msample(NODES, \u001B[38;5;241m1\u001B[39m)[\u001B[38;5;241m0\u001B[39m] \u001B[38;5;28;01mfor\u001B[39;00m i \u001B[38;5;129;01min\u001B[39;00m \u001B[38;5;28mrange\u001B[39m(N)]\n\u001B[1;32m     12\u001B[0m          })\n\u001B[1;32m     13\u001B[0m duration \u001B[38;5;241m=\u001B[39m {x: [] \u001B[38;5;28;01mfor\u001B[39;00m x \u001B[38;5;129;01min\u001B[39;00m algorithms}\n\u001B[1;32m     14\u001B[0m explored_nodes \u001B[38;5;241m=\u001B[39m {x: [] \u001B[38;5;28;01mfor\u001B[39;00m x \u001B[38;5;129;01min\u001B[39;00m algorithms}\n",
      "\u001B[0;31mNameError\u001B[0m: name 'pd' is not defined"
     ]
    }
   ],
   "source": [
    "N = 1000\n",
    "algorithms = [ 'tg', 'tg_ttn', 'tg_ttn_fc_ascending', 'tg_ttn_fc_descending',\n",
    "         'ch_tg', 'ch_tg_ttn', 'ch_tg_ttn_fc_ascending', 'ch_tg_ttn_fc_descending', 'ch_tg_ttn_fc_hierarchy',\n",
    "         'csa']\n",
    "#results = []\n",
    "\n",
    "\n",
    "test_data = pd.DataFrame({'start_time': [random.randint(transport_connections['dep_time_ut'].min(), \n",
    "                                       transport_connections['dep_time_ut'].max()) for i in range(N)],\n",
    "         'start_node' : [random.sample(NODES, 1)[0] for i in range(N)], \n",
    "          'end_node' : [random.sample(NODES, 1)[0] for i in range(N)]\n",
    "         })\n",
    "duration = {x: [] for x in algorithms}\n",
    "explored_nodes = {x: [] for x in algorithms}\n",
    "trip_duration = {x: [] for x in algorithms}\n",
    "\n",
    "for algorithm in algorithms:\n",
    "    graph = pickle.load(open(F'graph/{CITY}_{algorithm}.pkl', 'rb'))\n",
    "    for index, row in test_data.iterrows():\n",
    "        if algorithm == 'ch_tg':\n",
    "            pathfinding = FCH(graph=graph,\n",
    "                      start_time=row['start_time'],\n",
    "                      start_node=row['start_node'], \n",
    "                      end_node=row['end_node'])\n",
    "            path = pathfinding.shortest_path(60)\n",
    "            duration[algorithm].append(path['duration'])\n",
    "            explored_nodes[algorithm].append(len(pathfinding.candidate_weights))\n",
    "            if path['path']:\n",
    "                trip_duration[algorithm].append(path['arrival'] - row['start_time'])\n",
    "        elif algorithm == 'ch_tg_ttn':\n",
    "            pathfinding = FCH(graph=graph,\n",
    "                      start_time=row['start_time'],\n",
    "                      start_node=row['start_node'], \n",
    "                      end_node=row['end_node'])\n",
    "            path = pathfinding.shortest_path(60, \n",
    "                                             time_table_nodes='cst')\n",
    "            duration[algorithm].append(path['duration'])\n",
    "            explored_nodes[algorithm].append(len(pathfinding.candidate_weights))\n",
    "            if path['path']:\n",
    "                trip_duration[algorithm].append(path['arrival'] - row['start_time'])\n",
    "        elif algorithm in ['ch_tg_ttn_fc_ascending', 'ch_tg_ttn_fc_descending']: \n",
    "            pathfinding = FCH(graph=graph,\n",
    "                      start_time=row['start_time'],\n",
    "                      start_node=row['start_node'], \n",
    "                      end_node=row['end_node'])\n",
    "            path = pathfinding.shortest_path(60, \n",
    "                                             time_table_nodes='fc')\n",
    "            duration[algorithm].append(path['duration'])\n",
    "            explored_nodes[algorithm].append(len(pathfinding.candidate_weights))\n",
    "            if path['path']:\n",
    "                trip_duration[algorithm].append(path['arrival'] - row['start_time'])\n",
    "            \n",
    "        elif algorithm == 'ch_tg_ttn_fc_hierarchy':\n",
    "            pathfinding = FCH(graph=graph,\n",
    "                      start_time=row['start_time'],\n",
    "                      start_node=row['start_node'], \n",
    "                      end_node=row['end_node'])\n",
    "            path = pathfinding.shortest_path(60, \n",
    "                                             time_table_nodes='fc_chs')\n",
    "            duration[algorithm].append(path['duration'])\n",
    "            explored_nodes[algorithm].append(len(pathfinding.candidate_weights))\n",
    "            if path['path']:\n",
    "                trip_duration[algorithm].append(path['arrival'] - row['start_time'])\n",
    "            \n",
    "        elif algorithm == 'tg':\n",
    "            pathfinding = Dijkstra(graph=graph,\n",
    "                      start_time=row['start_time'],\n",
    "                      start_node=row['start_node'], \n",
    "                      end_node=row['end_node'])\n",
    "            path = pathfinding.shortest_path(60)\n",
    "            duration[algorithm].append(path['duration'])\n",
    "            explored_nodes[algorithm].append(len(pathfinding.candidate_weights))\n",
    "            if path['path']:\n",
    "                trip_duration[algorithm].append(path['arrival'] - row['start_time'])\n",
    "        elif algorithm == 'tg_ttn':\n",
    "            pathfinding = Dijkstra(graph=graph,\n",
    "                      start_time=row['start_time'],\n",
    "                      start_node=row['start_node'], \n",
    "                      end_node=row['end_node'])\n",
    "            path = pathfinding.shortest_path(60, \n",
    "                                             time_table_nodes='cst')\n",
    "            duration[algorithm].append(path['duration'])\n",
    "            explored_nodes[algorithm].append(len(pathfinding.candidate_weights))\n",
    "            if path['path']:\n",
    "                trip_duration[algorithm].append(path['arrival'] - row['start_time'])\n",
    "        elif algorithm in ['tg_ttn_fc_ascending', 'tg_ttn_fc_descending']:\n",
    "            pathfinding = Dijkstra(graph=graph,\n",
    "                      start_time=row['start_time'],\n",
    "                      start_node=row['start_node'], \n",
    "                      end_node=row['end_node'])\n",
    "            path = pathfinding.shortest_path(60, \n",
    "                                             time_table_nodes='fc')\n",
    "            duration[algorithm].append(path['duration'])\n",
    "            explored_nodes[algorithm].append(len(pathfinding.candidate_weights))\n",
    "            \n",
    "            if path['path']:\n",
    "                trip_duration[algorithm].append(path['arrival'] - row['start_time'])\n",
    "        elif algorithm == 'csa':\n",
    "            pathfinding = ConnectionScanAlgorithm(graph=graph,\n",
    "                  start_time=row['start_time'],\n",
    "                  start_node=row['start_node'], \n",
    "                  end_node=row['end_node'])\n",
    "            path = pathfinding.shortest_path()\n",
    "            duration[algorithm].append(path['duration'])\n",
    "            \n",
    "            if path['path']:\n",
    "                trip_duration[algorithm].append(path['arrival'] - row['start_time'])\n"
   ]
  },
  {
   "cell_type": "markdown",
   "id": "e25c57a9-b068-4c1f-8e4a-b1af351ffa22",
   "metadata": {},
   "source": [
    "# Results"
   ]
  },
  {
   "cell_type": "code",
   "execution_count": 13,
   "id": "7cd20bea-38b9-4267-b750-900ce7e2260f",
   "metadata": {},
   "outputs": [
    {
     "name": "stdout",
     "output_type": "stream",
     "text": [
      "tg 7.775 4.9534205353472665\n",
      "tg_ttn 7.094 4.6285163929708615\n",
      "tg_ttn_fc_ascending 6.925 4.525635314516626\n",
      "tg_ttn_fc_descending 7.518 5.072245656511522\n",
      "ch_tg 4.343 2.3641808306472663\n",
      "ch_tg_ttn 2.471 1.5255028679094642\n",
      "ch_tg_ttn_fc_ascending 3.871 2.133625787245739\n",
      "ch_tg_ttn_fc_descending 3.908 2.145585234848525\n",
      "ch_tg_ttn_fc_hierarchy 3.316 1.9626879527831211\n",
      "csa 5.404 4.164706952475768\n"
     ]
    }
   ],
   "source": [
    "for algorithm in algorithms:\n",
    "    print(algorithm, np.mean(duration[algorithm]), np.std(duration[algorithm]))"
   ]
  },
  {
   "cell_type": "code",
   "execution_count": null,
   "id": "f44f771b-c6a3-4933-a765-743d353158ff",
   "metadata": {},
   "outputs": [],
   "source": []
  }
 ],
 "metadata": {
  "kernelspec": {
   "display_name": "Python 3 (ipykernel)",
   "language": "python",
   "name": "python3"
  },
  "language_info": {
   "codemirror_mode": {
    "name": "ipython",
    "version": 3
   },
   "file_extension": ".py",
   "mimetype": "text/x-python",
   "name": "python",
   "nbconvert_exporter": "python",
   "pygments_lexer": "ipython3",
   "version": "3.9.6"
  }
 },
 "nbformat": 4,
 "nbformat_minor": 5
}
